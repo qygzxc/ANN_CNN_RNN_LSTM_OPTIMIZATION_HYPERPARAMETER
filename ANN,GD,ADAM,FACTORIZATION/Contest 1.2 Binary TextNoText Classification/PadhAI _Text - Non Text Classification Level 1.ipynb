{
  "cells": [
    {
      "metadata": {
        "id": "a192xmwKijHs",
        "colab_type": "code",
        "colab": {},
        "trusted": true,
        "_uuid": "5c41617962285eade0f5bd404805c853a5271528"
      },
      "cell_type": "code",
      "source": "import os\nimport sys\nimport pickle\nimport numpy as np\nimport pandas as pd\nfrom PIL import Image, ImageFilter\nfrom tqdm import tqdm_notebook\nfrom sklearn.preprocessing import StandardScaler\nfrom sklearn.metrics import accuracy_score, mean_squared_error, log_loss, confusion_matrix\nimport matplotlib.pyplot as plt\n\nnp.random.seed(100)\nLEVEL = 'level_1'",
      "execution_count": 1,
      "outputs": []
    },
    {
      "metadata": {
        "id": "fIuRdSezijHx",
        "colab_type": "code",
        "colab": {},
        "trusted": true,
        "_uuid": "6666ed67a125939b18adb3939adcc9ef0653e046"
      },
      "cell_type": "code",
      "source": "class SigmoidNeuron:\n  \n  def __init__(self):\n    self.w = None\n    self.b = None\n    \n  def perceptron(self, x):\n    return np.dot(x, self.w.T) + self.b\n  \n  def sigmoid(self, x):\n    return 1.0/(1.0 + np.exp(-x))\n  \n  def grad_w_mse(self, x, y):\n    y_pred = self.sigmoid(self.perceptron(x))\n    return (y_pred - y) * y_pred * (1 - y_pred) * x\n  \n  def grad_b_mse(self, x, y):\n    y_pred = self.sigmoid(self.perceptron(x))\n    return (y_pred - y) * y_pred * (1 - y_pred)\n  \n  def grad_w_ce(self, x, y):\n    y_pred = self.sigmoid(self.perceptron(x))\n    if y == 0:\n      return y_pred * x\n    elif y == 1:\n      return -1 * (1 - y_pred) * x\n    else:\n      raise ValueError(\"y should be 0 or 1\")\n    \n  def grad_b_ce(self, x, y):\n    y_pred = self.sigmoid(self.perceptron(x))\n    if y == 0:\n      return y_pred \n    elif y == 1:\n      return -1 * (1 - y_pred)\n    else:\n      raise ValueError(\"y should be 0 or 1\")\n  \n  def fit(self, X, Y, epochs=1, learning_rate=1, initialise=True, loss_fn=\"mse\", display_loss=False):\n    \n    # initialise w, b\n    if initialise:\n      self.w = np.random.randn(1, X.shape[1])\n      self.b = 0\n      \n    if display_loss:\n      loss = {}\n    \n    for i in tqdm_notebook(range(epochs), total=epochs, unit=\"epoch\"):\n      dw = 0\n      db = 0\n      for x, y in zip(X, Y):\n        if loss_fn == \"mse\":\n          dw += self.grad_w_mse(x, y)\n          db += self.grad_b_mse(x, y) \n        elif loss_fn == \"ce\":\n          dw += self.grad_w_ce(x, y)\n          db += self.grad_b_ce(x, y)\n      self.w -= learning_rate * dw\n      self.b -= learning_rate * db\n      \n      if display_loss:\n        Y_pred = self.sigmoid(self.perceptron(X))\n        if loss_fn == \"mse\":\n          loss[i] = mean_squared_error(Y, Y_pred)\n        elif loss_fn == \"ce\":\n          loss[i] = log_loss(Y, Y_pred)\n    \n    if display_loss:\n      plt.plot(loss.values())\n      plt.xlabel('Epochs')\n      if loss_fn == \"mse\":\n        plt.ylabel('Mean Squared Error')\n      elif loss_fn == \"ce\":\n        plt.ylabel('Log Loss')\n      plt.show()\n      \n  def predict(self, X):\n    Y_pred = []\n    for x in X:\n      y_pred = self.sigmoid(self.perceptron(x))\n      Y_pred.append(y_pred)\n    return np.array(Y_pred)",
      "execution_count": 2,
      "outputs": []
    },
    {
      "metadata": {
        "id": "VDe2wjl_ijH0",
        "colab_type": "code",
        "colab": {},
        "trusted": true,
        "_uuid": "5ca5e8a9a22285c3fd9eb4ca476770d109f0a2d6"
      },
      "cell_type": "code",
      "source": "def read_all(folder_path, key_prefix=\"\"):\n    '''\n    It returns a dictionary with 'file names' as keys and 'flattened image arrays' as values.\n    '''\n    print(\"Reading:\")\n    images = {}\n    files = os.listdir(folder_path)\n    for i, file_name in tqdm_notebook(enumerate(files), total=len(files)):\n        file_path = os.path.join(folder_path, file_name)\n        image_index = key_prefix + file_name[:-4]\n        image = Image.open(file_path)\n        image = image.convert(\"L\")\n        images[image_index] = np.array(image.copy()).flatten()\n        image.close()\n    return images",
      "execution_count": 3,
      "outputs": []
    },
    {
      "metadata": {
        "id": "mjuaN532ijH4",
        "colab_type": "code",
        "colab": {},
        "outputId": "4124ae5e-4a9c-44dc-8c84-7919e6927fe5",
        "trusted": true,
        "_uuid": "0aea021b113bd5132dbab7aa910fb622887e532e"
      },
      "cell_type": "code",
      "source": "languages = ['ta', 'hi', 'en']\n\nimages_train = read_all(\"../input/level_1_train/\"+LEVEL+\"/\"+\"background\", key_prefix='bgr_') # change the path\nfor language in languages:\n  images_train.update(read_all(\"../input/level_1_train/\"+LEVEL+\"/\"+language, key_prefix=language+\"_\" ))\nprint(len(images_train))\n\nimages_test = read_all(\"../input/level_1_test/kaggle_\"+LEVEL, key_prefix='') # change the path\nprint(len(images_test))",
      "execution_count": 5,
      "outputs": [
        {
          "output_type": "stream",
          "text": "Reading:\n",
          "name": "stdout"
        },
        {
          "output_type": "display_data",
          "data": {
            "text/plain": "HBox(children=(IntProgress(value=0, max=450), HTML(value='')))",
            "application/vnd.jupyter.widget-view+json": {
              "version_major": 2,
              "version_minor": 0,
              "model_id": "96c5277fd9cd41ddb196147482d551c3"
            }
          },
          "metadata": {}
        },
        {
          "output_type": "stream",
          "text": "\nReading:\n",
          "name": "stdout"
        },
        {
          "output_type": "display_data",
          "data": {
            "text/plain": "HBox(children=(IntProgress(value=0, max=150), HTML(value='')))",
            "application/vnd.jupyter.widget-view+json": {
              "version_major": 2,
              "version_minor": 0,
              "model_id": "21ff4d12723842f3b115481aeb5d78d1"
            }
          },
          "metadata": {}
        },
        {
          "output_type": "stream",
          "text": "\nReading:\n",
          "name": "stdout"
        },
        {
          "output_type": "display_data",
          "data": {
            "text/plain": "HBox(children=(IntProgress(value=0, max=150), HTML(value='')))",
            "application/vnd.jupyter.widget-view+json": {
              "version_major": 2,
              "version_minor": 0,
              "model_id": "ee9530d0d95e4347b2dce6a74c6c24a9"
            }
          },
          "metadata": {}
        },
        {
          "output_type": "stream",
          "text": "\nReading:\n",
          "name": "stdout"
        },
        {
          "output_type": "display_data",
          "data": {
            "text/plain": "HBox(children=(IntProgress(value=0, max=150), HTML(value='')))",
            "application/vnd.jupyter.widget-view+json": {
              "version_major": 2,
              "version_minor": 0,
              "model_id": "545e3baed67e4f1d80b234dfca6f29bd"
            }
          },
          "metadata": {}
        },
        {
          "output_type": "stream",
          "text": "\n900\nReading:\n",
          "name": "stdout"
        },
        {
          "output_type": "display_data",
          "data": {
            "text/plain": "HBox(children=(IntProgress(value=0, max=300), HTML(value='')))",
            "application/vnd.jupyter.widget-view+json": {
              "version_major": 2,
              "version_minor": 0,
              "model_id": "fb3d1715faf84e249118cc2fa0f290ed"
            }
          },
          "metadata": {}
        },
        {
          "output_type": "stream",
          "text": "\n300\n",
          "name": "stdout"
        }
      ]
    },
    {
      "metadata": {
        "id": "xqcTJRmSijH-",
        "colab_type": "code",
        "colab": {},
        "outputId": "3a26f608-868b-498d-b18d-bfae2b452d4e",
        "trusted": true,
        "_uuid": "ca3c6c0f26203a7559fd37764d7eef5baeb0d864"
      },
      "cell_type": "code",
      "source": "list(images_test.keys())[:5]",
      "execution_count": 6,
      "outputs": [
        {
          "output_type": "execute_result",
          "execution_count": 6,
          "data": {
            "text/plain": "['39', '150', '199', '146', '281']"
          },
          "metadata": {}
        }
      ]
    },
    {
      "metadata": {
        "id": "yQUKxV_FijIC",
        "colab_type": "code",
        "colab": {},
        "outputId": "e6f2538b-3285-49ea-d6fd-7fbadc2bb975",
        "_kg_hide-input": false,
        "trusted": true,
        "_uuid": "f38992c927d2afda790fee90490c2089d904363f"
      },
      "cell_type": "code",
      "source": "X_train = []\nY_train = []\nfor key, value in images_train.items():\n    X_train.append(value)\n    if key[:4] == \"bgr_\":\n        Y_train.append(0)\n    else:\n        Y_train.append(1)\n\nID_test = []\nX_test = []\nfor key, value in images_test.items():\n  ID_test.append(int(key))\n  X_test.append(value)\n  \n        \nX_train = np.array(X_train)\nY_train = np.array(Y_train)\nX_test = np.array(X_test)\n\nprint(X_train.shape, Y_train.shape)\nprint(X_test.shape)",
      "execution_count": 7,
      "outputs": [
        {
          "output_type": "stream",
          "text": "(900, 256) (900,)\n(300, 256)\n",
          "name": "stdout"
        }
      ]
    },
    {
      "metadata": {
        "id": "wy3IKx26ijIG",
        "colab_type": "code",
        "colab": {},
        "outputId": "f571f85d-1fe6-4a33-bcf1-ca1574aa3709",
        "trusted": true,
        "_uuid": "963036d533255f733c0b086f309bd8ab9878711e"
      },
      "cell_type": "code",
      "source": "scaler = StandardScaler()\nX_scaled_train = scaler.fit_transform(X_train)\nX_scaled_test = scaler.transform(X_test)",
      "execution_count": 8,
      "outputs": [
        {
          "output_type": "stream",
          "text": "/opt/conda/lib/python3.6/site-packages/sklearn/utils/validation.py:595: DataConversionWarning: Data with input dtype uint8 was converted to float64 by StandardScaler.\n  warnings.warn(msg, DataConversionWarning)\n/opt/conda/lib/python3.6/site-packages/sklearn/utils/validation.py:595: DataConversionWarning: Data with input dtype uint8 was converted to float64 by StandardScaler.\n  warnings.warn(msg, DataConversionWarning)\n/opt/conda/lib/python3.6/site-packages/sklearn/utils/validation.py:595: DataConversionWarning: Data with input dtype uint8 was converted to float64 by StandardScaler.\n  warnings.warn(msg, DataConversionWarning)\n",
          "name": "stderr"
        }
      ]
    },
    {
      "metadata": {
        "id": "eboQW2n1ijIK",
        "colab_type": "code",
        "colab": {},
        "outputId": "fa8fbf5d-5d5c-4463-aa3c-909d6698b9b0",
        "trusted": true,
        "_uuid": "3f613561bcc10d03f663ddb69cb758a5a3976016"
      },
      "cell_type": "code",
      "source": "sn_mse = SigmoidNeuron()\nsn_mse.fit(X_scaled_train, Y_train, epochs=800, learning_rate=0.01, loss_fn=\"mse\", display_loss=True)",
      "execution_count": 30,
      "outputs": [
        {
          "output_type": "display_data",
          "data": {
            "text/plain": "HBox(children=(IntProgress(value=0, max=800), HTML(value='')))",
            "application/vnd.jupyter.widget-view+json": {
              "version_major": 2,
              "version_minor": 0,
              "model_id": "bc3353e7decb4b0c8dd3eac5625be682"
            }
          },
          "metadata": {}
        },
        {
          "output_type": "stream",
          "text": "\n",
          "name": "stdout"
        },
        {
          "output_type": "display_data",
          "data": {
            "text/plain": "<Figure size 432x288 with 1 Axes>",
            "image/png": "[encoded data removed]"
          },
          "metadata": {}
        }
      ]
    },
    {
      "metadata": {
        "id": "547SFsgsijIO",
        "colab_type": "code",
        "colab": {},
        "outputId": "e6595d5e-a9e0-4b5f-f7b5-a56297bc69c0",
        "trusted": true,
        "_uuid": "95147d951f8b7ea25e27a6fdd0335bffb0f914e3"
      },
      "cell_type": "code",
      "source": "sn_ce = SigmoidNeuron()\nsn_ce.fit(X_scaled_train, Y_train, epochs=200, learning_rate=0.015, loss_fn=\"ce\", display_loss=True)",
      "execution_count": 31,
      "outputs": [
        {
          "output_type": "display_data",
          "data": {
            "text/plain": "HBox(children=(IntProgress(value=0, max=200), HTML(value='')))",
            "application/vnd.jupyter.widget-view+json": {
              "version_major": 2,
              "version_minor": 0,
              "model_id": "9d444d7d5dae47dba44dc7d8f8a1c4a2"
            }
          },
          "metadata": {}
        },
        {
          "output_type": "stream",
          "text": "\n",
          "name": "stdout"
        },
        {
          "output_type": "display_data",
          "data": {
            "text/plain": "<Figure size 432x288 with 1 Axes>",
            "image/png": "[encoded data removed]"
          },
          "metadata": {}
        }
      ]
    },
    {
      "metadata": {
        "id": "_a3_-9zYijIS",
        "colab_type": "code",
        "colab": {},
        "trusted": true,
        "_uuid": "b4194af97eab5abc4d384bc0bc629baefb54d30b"
      },
      "cell_type": "code",
      "source": "def print_accuracy(sn):\n  Y_pred_train = sn.predict(X_scaled_train)\n  Y_pred_binarised_train = (Y_pred_train >= 0.5).astype(\"int\").ravel()\n  accuracy_train = accuracy_score(Y_pred_binarised_train, Y_train)\n  print(\"Train Accuracy : \", accuracy_train)\n  print(\"-\"*50)",
      "execution_count": 32,
      "outputs": []
    },
    {
      "metadata": {
        "id": "lqe2g9PLijIW",
        "colab_type": "code",
        "colab": {},
        "outputId": "0ce4b45c-78f5-4323-829b-db3e12c3f268",
        "trusted": true,
        "_uuid": "24d93f3d759ac4533c08f31afffbf196141c8546"
      },
      "cell_type": "code",
      "source": "print_accuracy(sn_mse)\nprint_accuracy(sn_ce)",
      "execution_count": 33,
      "outputs": [
        {
          "output_type": "stream",
          "text": "Train Accuracy :  0.9722222222222222\n--------------------------------------------------\nTrain Accuracy :  1.0\n--------------------------------------------------\n",
          "name": "stdout"
        }
      ]
    },
    {
      "metadata": {
        "id": "8IMv7SCUijIa",
        "colab_type": "text",
        "_uuid": "0c854c2b9295a2e8e8f4a616f3c774dab963626c"
      },
      "cell_type": "markdown",
      "source": "## Sample Submission"
    },
    {
      "metadata": {
        "id": "4_pBsgYlijIb",
        "colab_type": "code",
        "colab": {},
        "trusted": true,
        "_uuid": "b71bfb00b07165c430c31d6912248e003f477d8c"
      },
      "cell_type": "code",
      "source": "Y_pred_test = sn_ce.predict(X_scaled_test)\nY_pred_binarised_test = (Y_pred_test >= 0.5).astype(\"int\").ravel()\n\nsubmission = {}\nsubmission['ImageId'] = ID_test\nsubmission['Class'] = Y_pred_binarised_test\n\nsubmission = pd.DataFrame(submission)\nsubmission = submission[['ImageId', 'Class']]\nsubmission = submission.sort_values(['ImageId'])\nsubmission.to_csv(\"submisision.csv\", index=False)",
      "execution_count": null,
      "outputs": []
    },
    {
      "metadata": {
        "id": "LCkK3-CDijIe",
        "colab_type": "code",
        "colab": {},
        "trusted": false,
        "_uuid": "f9e225bc66a858f9db5672ea30ad5ac9bce2cf53"
      },
      "cell_type": "code",
      "source": "",
      "execution_count": null,
      "outputs": []
    }
  ],
  "metadata": {
    "colab": {
      "name": "Text - Non Text Classification.ipynb",
      "version": "0.3.2",
      "provenance": [],
      "collapsed_sections": []
    },
    "kernelspec": {
      "display_name": "Python 3",
      "language": "python",
      "name": "python3"
    }
  },
  "nbformat": 4,
  "nbformat_minor": 1
}