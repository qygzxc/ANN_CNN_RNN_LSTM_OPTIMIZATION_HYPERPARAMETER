{
  "cells": [
    {
      "metadata": {
        "id": "a192xmwKijHs",
        "colab_type": "code",
        "colab": {},
        "trusted": true,
        "_uuid": "cea5ae59ec993aa88ec94cfd060dc1ddf3378192"
      },
      "cell_type": "code",
      "source": "import os\nimport sys\nimport pickle\nimport numpy as np\nimport pandas as pd\nfrom PIL import Image, ImageFilter\nfrom tqdm import tqdm_notebook\nfrom sklearn.preprocessing import StandardScaler\nfrom sklearn.metrics import accuracy_score, mean_squared_error, log_loss, confusion_matrix\nimport matplotlib.pyplot as plt\n\nnp.random.seed(100)\nLEVEL = 'level_1'",
      "execution_count": 3,
      "outputs": []
    },
    {
      "metadata": {
        "id": "fIuRdSezijHx",
        "colab_type": "code",
        "colab": {},
        "trusted": true,
        "_uuid": "1a5ce8f95f255ff696672edd4f134f8a4e955673"
      },
      "cell_type": "code",
      "source": "class SigmoidNeuron:\n  \n  def __init__(self):\n    self.w = None\n    self.b = None\n    \n  def perceptron(self, x):\n    return np.dot(x, self.w.T) + self.b\n  \n  def sigmoid(self, x):\n    return 1.0/(1.0 + np.exp(-x))\n  \n  def grad_w_mse(self, x, y):\n    y_pred = self.sigmoid(self.perceptron(x))\n    return (y_pred - y) * y_pred * (1 - y_pred) * x\n  \n  def grad_b_mse(self, x, y):\n    y_pred = self.sigmoid(self.perceptron(x))\n    return (y_pred - y) * y_pred * (1 - y_pred)\n  \n  def grad_w_ce(self, x, y):\n    y_pred = self.sigmoid(self.perceptron(x))\n    if y == 0:\n      return y_pred * x\n    elif y == 1:\n      return -1 * (1 - y_pred) * x\n    else:\n      raise ValueError(\"y should be 0 or 1\")\n    \n  def grad_b_ce(self, x, y):\n    y_pred = self.sigmoid(self.perceptron(x))\n    if y == 0:\n      return y_pred \n    elif y == 1:\n      return -1 * (1 - y_pred)\n    else:\n      raise ValueError(\"y should be 0 or 1\")\n  \n  def fit(self, X, Y, epochs=1, learning_rate=1, initialise=True, loss_fn=\"mse\", display_loss=False):\n    \n    # initialise w, b\n    if initialise:\n      self.w = np.random.randn(1, X.shape[1])\n      self.b = 0\n      \n    if display_loss:\n      loss = {}\n    \n    for i in tqdm_notebook(range(epochs), total=epochs, unit=\"epoch\"):\n      dw = 0\n      db = 0\n      for x, y in zip(X, Y):\n        if loss_fn == \"mse\":\n          dw += self.grad_w_mse(x, y)\n          db += self.grad_b_mse(x, y) \n        elif loss_fn == \"ce\":\n          dw += self.grad_w_ce(x, y)\n          db += self.grad_b_ce(x, y)\n      self.w -= learning_rate * dw\n      self.b -= learning_rate * db\n      \n      if display_loss:\n        Y_pred = self.sigmoid(self.perceptron(X))\n        if loss_fn == \"mse\":\n          loss[i] = mean_squared_error(Y, Y_pred)\n        elif loss_fn == \"ce\":\n          loss[i] = log_loss(Y, Y_pred)\n    \n    if display_loss:\n      plt.plot(loss.values())\n      plt.xlabel('Epochs')\n      if loss_fn == \"mse\":\n        plt.ylabel('Mean Squared Error')\n      elif loss_fn == \"ce\":\n        plt.ylabel('Log Loss')\n      plt.show()\n      \n  def predict(self, X):\n    Y_pred = []\n    for x in X:\n      y_pred = self.sigmoid(self.perceptron(x))\n      Y_pred.append(y_pred)\n    return np.array(Y_pred)",
      "execution_count": 4,
      "outputs": []
    },
    {
      "metadata": {
        "id": "VDe2wjl_ijH0",
        "colab_type": "code",
        "colab": {},
        "trusted": true,
        "_uuid": "0106a6f7373fc4f1366636e468007a68e7109601"
      },
      "cell_type": "code",
      "source": "def read_all(folder_path, key_prefix=\"\"):\n    '''\n    It returns a dictionary with 'file names' as keys and 'flattened image arrays' as values.\n    '''\n    print(\"Reading:\")\n    images = {}\n    files = os.listdir(folder_path)\n    for i, file_name in tqdm_notebook(enumerate(files), total=len(files)):\n        file_path = os.path.join(folder_path, file_name)\n        image_index = key_prefix + file_name[:-4]\n        image = Image.open(file_path)\n        image = image.convert(\"L\")\n        images[image_index] = np.array(image.copy()).flatten()\n        image.close()\n    return images",
      "execution_count": 5,
      "outputs": []
    },
    {
      "metadata": {
        "id": "mjuaN532ijH4",
        "colab_type": "code",
        "colab": {},
        "outputId": "4124ae5e-4a9c-44dc-8c84-7919e6927fe5",
        "trusted": true,
        "_uuid": "b4a6c5ab5691f67fcf5d7cd729387e239af1f052"
      },
      "cell_type": "code",
      "source": "languages = ['ta', 'hi', 'en']\n\nimages_train = read_all(\"../input/level_2_train/level_2/\"+\"background\", key_prefix='bgr_') # change the path\nfor language in languages:\n  images_train.update(read_all(\"../input/level_2_train/level_2/\"+language, key_prefix=language+\"_\" ))\nprint(len(images_train))\n\nimages_test = read_all(\"../input/level_2_test/kaggle_level_2\", key_prefix='') # change the path\nprint(len(images_test))",
      "execution_count": 8,
      "outputs": [
        {
          "output_type": "stream",
          "text": "Reading:\n",
          "name": "stdout"
        },
        {
          "output_type": "display_data",
          "data": {
            "text/plain": "HBox(children=(IntProgress(value=0, max=450), HTML(value='')))",
            "application/vnd.jupyter.widget-view+json": {
              "version_major": 2,
              "version_minor": 0,
              "model_id": "d856d252e50f4712849ee1a39ed42738"
            }
          },
          "metadata": {}
        },
        {
          "output_type": "stream",
          "text": "\nReading:\n",
          "name": "stdout"
        },
        {
          "output_type": "display_data",
          "data": {
            "text/plain": "HBox(children=(IntProgress(value=0, max=150), HTML(value='')))",
            "application/vnd.jupyter.widget-view+json": {
              "version_major": 2,
              "version_minor": 0,
              "model_id": "6d0e8e31d1ee4d14887adca2f292e562"
            }
          },
          "metadata": {}
        },
        {
          "output_type": "stream",
          "text": "\nReading:\n",
          "name": "stdout"
        },
        {
          "output_type": "display_data",
          "data": {
            "text/plain": "HBox(children=(IntProgress(value=0, max=150), HTML(value='')))",
            "application/vnd.jupyter.widget-view+json": {
              "version_major": 2,
              "version_minor": 0,
              "model_id": "8f45b456400d47db9fa27ffdfd8018c5"
            }
          },
          "metadata": {}
        },
        {
          "output_type": "stream",
          "text": "\nReading:\n",
          "name": "stdout"
        },
        {
          "output_type": "display_data",
          "data": {
            "text/plain": "HBox(children=(IntProgress(value=0, max=150), HTML(value='')))",
            "application/vnd.jupyter.widget-view+json": {
              "version_major": 2,
              "version_minor": 0,
              "model_id": "240b1be04e1f47479dc0e44e92a99113"
            }
          },
          "metadata": {}
        },
        {
          "output_type": "stream",
          "text": "\n900\nReading:\n",
          "name": "stdout"
        },
        {
          "output_type": "display_data",
          "data": {
            "text/plain": "HBox(children=(IntProgress(value=0, max=300), HTML(value='')))",
            "application/vnd.jupyter.widget-view+json": {
              "version_major": 2,
              "version_minor": 0,
              "model_id": "6b9f2a83042d4bcb9c14ee7723dd344c"
            }
          },
          "metadata": {}
        },
        {
          "output_type": "stream",
          "text": "\n300\n",
          "name": "stdout"
        }
      ]
    },
    {
      "metadata": {
        "id": "xqcTJRmSijH-",
        "colab_type": "code",
        "colab": {},
        "outputId": "3a26f608-868b-498d-b18d-bfae2b452d4e",
        "trusted": true,
        "_uuid": "94c87f95a34992ebc1a91490140b67e75a09c4e0"
      },
      "cell_type": "code",
      "source": "list(images_test.keys())[:5]",
      "execution_count": 9,
      "outputs": [
        {
          "output_type": "execute_result",
          "execution_count": 9,
          "data": {
            "text/plain": "['39', '150', '199', '146', '281']"
          },
          "metadata": {}
        }
      ]
    },
    {
      "metadata": {
        "id": "yQUKxV_FijIC",
        "colab_type": "code",
        "colab": {},
        "outputId": "e6f2538b-3285-49ea-d6fd-7fbadc2bb975",
        "trusted": true,
        "_uuid": "103ce411803ad1b41fe4241ce835590e999d286f"
      },
      "cell_type": "code",
      "source": "X_train = []\nY_train = []\nfor key, value in images_train.items():\n    X_train.append(value)\n    if key[:4] == \"bgr_\":\n        Y_train.append(0)\n    else:\n        Y_train.append(1)\n\nID_test = []\nX_test = []\nfor key, value in images_test.items():\n  ID_test.append(int(key))\n  X_test.append(value)\n  \n        \nX_train = np.array(X_train)\nY_train = np.array(Y_train)\nX_test = np.array(X_test)\n\nprint(X_train.shape, Y_train.shape)\nprint(X_test.shape)",
      "execution_count": 10,
      "outputs": [
        {
          "output_type": "stream",
          "text": "(900, 256) (900,)\n(300, 256)\n",
          "name": "stdout"
        }
      ]
    },
    {
      "metadata": {
        "id": "wy3IKx26ijIG",
        "colab_type": "code",
        "colab": {},
        "outputId": "f571f85d-1fe6-4a33-bcf1-ca1574aa3709",
        "trusted": true,
        "_uuid": "f26c2300f6446d33dd6f352a90845288c4effab5"
      },
      "cell_type": "code",
      "source": "scaler = StandardScaler()\nX_scaled_train = scaler.fit_transform(X_train)\nX_scaled_test = scaler.transform(X_test)",
      "execution_count": 11,
      "outputs": [
        {
          "output_type": "stream",
          "text": "/opt/conda/lib/python3.6/site-packages/sklearn/utils/validation.py:595: DataConversionWarning: Data with input dtype uint8 was converted to float64 by StandardScaler.\n  warnings.warn(msg, DataConversionWarning)\n/opt/conda/lib/python3.6/site-packages/sklearn/utils/validation.py:595: DataConversionWarning: Data with input dtype uint8 was converted to float64 by StandardScaler.\n  warnings.warn(msg, DataConversionWarning)\n/opt/conda/lib/python3.6/site-packages/sklearn/utils/validation.py:595: DataConversionWarning: Data with input dtype uint8 was converted to float64 by StandardScaler.\n  warnings.warn(msg, DataConversionWarning)\n",
          "name": "stderr"
        }
      ]
    },
    {
      "metadata": {
        "id": "eboQW2n1ijIK",
        "colab_type": "code",
        "colab": {},
        "outputId": "fa8fbf5d-5d5c-4463-aa3c-909d6698b9b0",
        "trusted": true,
        "_uuid": "80386a69cdebd0d0e477384d8d396c71e7dfd468"
      },
      "cell_type": "code",
      "source": "sn_mse = SigmoidNeuron()\nsn_mse.fit(X_scaled_train, Y_train, epochs=1200, learning_rate=0.0015, loss_fn=\"mse\", display_loss=True)",
      "execution_count": 21,
      "outputs": [
        {
          "output_type": "display_data",
          "data": {
            "text/plain": "HBox(children=(IntProgress(value=0, max=1200), HTML(value='')))",
            "application/vnd.jupyter.widget-view+json": {
              "version_major": 2,
              "version_minor": 0,
              "model_id": "fb282af662104c54a48c7ed35fefc930"
            }
          },
          "metadata": {}
        },
        {
          "output_type": "stream",
          "text": "\n",
          "name": "stdout"
        },
        {
          "output_type": "display_data",
          "data": {
            "text/plain": "<Figure size 432x288 with 1 Axes>",
            "image/png": "[encoded data removed]"
          },
          "metadata": {}
        }
      ]
    },
    {
      "metadata": {
        "id": "547SFsgsijIO",
        "colab_type": "code",
        "colab": {},
        "outputId": "e6595d5e-a9e0-4b5f-f7b5-a56297bc69c0",
        "trusted": true,
        "_uuid": "7a8e7e0e30796b3e517c674ccdc230c92e1c0cd7"
      },
      "cell_type": "code",
      "source": "sn_ce = SigmoidNeuron()\nsn_ce.fit(X_scaled_train, Y_train, epochs=200, learning_rate=0.0015, loss_fn=\"ce\", display_loss=True)",
      "execution_count": 22,
      "outputs": [
        {
          "output_type": "display_data",
          "data": {
            "text/plain": "HBox(children=(IntProgress(value=0, max=200), HTML(value='')))",
            "application/vnd.jupyter.widget-view+json": {
              "version_major": 2,
              "version_minor": 0,
              "model_id": "3b2d489b6d3643dc8a67e2f971aa40eb"
            }
          },
          "metadata": {}
        },
        {
          "output_type": "stream",
          "text": "\n",
          "name": "stdout"
        },
        {
          "output_type": "display_data",
          "data": {
            "text/plain": "<Figure size 432x288 with 1 Axes>",
            "image/png": "[encoded data removed]"
          },
          "metadata": {}
        }
      ]
    },
    {
      "metadata": {
        "id": "_a3_-9zYijIS",
        "colab_type": "code",
        "colab": {},
        "trusted": true,
        "_uuid": "2759396e56cd41aace9d147d4aa5b7922dd73bfe"
      },
      "cell_type": "code",
      "source": "def print_accuracy(sn):\n  Y_pred_train = sn.predict(X_scaled_train)\n  Y_pred_binarised_train = (Y_pred_train >= 0.5).astype(\"int\").ravel()\n  accuracy_train = accuracy_score(Y_pred_binarised_train, Y_train)\n  print(\"Train Accuracy : \", accuracy_train)\n  print(\"-\"*50)",
      "execution_count": 23,
      "outputs": []
    },
    {
      "metadata": {
        "id": "lqe2g9PLijIW",
        "colab_type": "code",
        "colab": {},
        "outputId": "0ce4b45c-78f5-4323-829b-db3e12c3f268",
        "trusted": true,
        "_uuid": "f4a0614572fdff70baae4bf5b1bfc2145ac6b227"
      },
      "cell_type": "code",
      "source": "print_accuracy(sn_mse)\nprint_accuracy(sn_ce)",
      "execution_count": 24,
      "outputs": [
        {
          "output_type": "stream",
          "text": "Train Accuracy :  0.9766666666666667\n--------------------------------------------------\nTrain Accuracy :  1.0\n--------------------------------------------------\n",
          "name": "stdout"
        }
      ]
    },
    {
      "metadata": {
        "id": "8IMv7SCUijIa",
        "colab_type": "text",
        "_uuid": "3498664f1d5d902c8dac546469d722904767ce7e"
      },
      "cell_type": "markdown",
      "source": "## Sample Submission"
    },
    {
      "metadata": {
        "id": "4_pBsgYlijIb",
        "colab_type": "code",
        "colab": {},
        "trusted": true,
        "_uuid": "fdb83b023367c4343baf994688a948b6a9a557c3"
      },
      "cell_type": "code",
      "source": "Y_pred_test = sn_ce.predict(X_scaled_test)\nY_pred_binarised_test = (Y_pred_test >= 0.5).astype(\"int\").ravel()\n\nsubmission = {}\nsubmission['ImageId'] = ID_test\nsubmission['Class'] = Y_pred_binarised_test\n\nsubmission = pd.DataFrame(submission)\nsubmission = submission[['ImageId', 'Class']]\nsubmission = submission.sort_values(['ImageId'])\nsubmission.to_csv(\"submisision.csv\", index=False)",
      "execution_count": null,
      "outputs": []
    },
    {
      "metadata": {
        "id": "LCkK3-CDijIe",
        "colab_type": "code",
        "colab": {},
        "trusted": false,
        "_uuid": "03bbe93be978a8c7f9f71801e21f56c7226fec61"
      },
      "cell_type": "code",
      "source": "",
      "execution_count": null,
      "outputs": []
    }
  ],
  "metadata": {
    "colab": {
      "name": "Text - Non Text Classification.ipynb",
      "version": "0.3.2",
      "provenance": [],
      "collapsed_sections": []
    },
    "kernelspec": {
      "display_name": "Python 3",
      "language": "python",
      "name": "python3"
    },
    "language_info": {
      "name": "python",
      "version": "3.6.6",
      "mimetype": "text/x-python",
      "codemirror_mode": {
        "name": "ipython",
        "version": 3
      },
      "pygments_lexer": "ipython3",
      "nbconvert_exporter": "python",
      "file_extension": ".py"
    }
  },
  "nbformat": 4,
  "nbformat_minor": 1
}